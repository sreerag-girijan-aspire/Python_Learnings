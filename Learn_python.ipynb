{
 "cells": [
  {
   "cell_type": "markdown",
   "metadata": {},
   "source": [
    "Solve pandas problems from document shared"
   ]
  },
  {
   "cell_type": "markdown",
   "metadata": {},
   "source": [
    "Solve numpy problems from document shared"
   ]
  },
  {
   "cell_type": "markdown",
   "metadata": {},
   "source": [
    "Solve Pyspark problem from document shared"
   ]
  },
  {
   "cell_type": "code",
   "execution_count": 1,
   "metadata": {},
   "outputs": [
    {
     "name": "stdout",
     "output_type": "stream",
     "text": [
      "   X  Y\n",
      "0  1  5\n",
      "1  2  6\n",
      "2  3  7\n",
      "3  4  8\n"
     ]
    }
   ],
   "source": [
    "import pandas as pd\n",
    "import numpy as np\n",
    "data = {'X': [1, 2, 3, 4], 'Y': [5, 6, 7, 8]}\n",
    "df = pd.DataFrame(data)\n",
    "print(df)"
   ]
  },
  {
   "cell_type": "code",
   "execution_count": 2,
   "metadata": {},
   "outputs": [
    {
     "name": "stdout",
     "output_type": "stream",
     "text": [
      "   X  Y\n",
      "0  1  5\n",
      "1  2  6\n",
      "2  3  7\n"
     ]
    }
   ],
   "source": [
    "print(df.head(3))"
   ]
  },
  {
   "cell_type": "code",
   "execution_count": 3,
   "metadata": {},
   "outputs": [
    {
     "name": "stdout",
     "output_type": "stream",
     "text": [
      "0    1\n",
      "1    2\n",
      "2    3\n",
      "3    4\n",
      "Name: X, dtype: int64\n"
     ]
    }
   ],
   "source": [
    "print(df['X'])"
   ]
  },
  {
   "cell_type": "code",
   "execution_count": 4,
   "metadata": {},
   "outputs": [
    {
     "name": "stdout",
     "output_type": "stream",
     "text": [
      "   X  Y\n",
      "2  3  7\n",
      "3  4  8\n"
     ]
    }
   ],
   "source": [
    "filtered_df = df[df['X'] > 2]\n",
    "print(filtered_df)"
   ]
  },
  {
   "cell_type": "code",
   "execution_count": 5,
   "metadata": {},
   "outputs": [
    {
     "name": "stdout",
     "output_type": "stream",
     "text": [
      "   X  Y   Z\n",
      "0  1  5   6\n",
      "1  2  6   8\n",
      "2  3  7  10\n",
      "3  4  8  12\n"
     ]
    }
   ],
   "source": [
    "df['Z'] = df['X'] + df['Y']\n",
    "print(df)"
   ]
  },
  {
   "cell_type": "code",
   "execution_count": 6,
   "metadata": {},
   "outputs": [
    {
     "name": "stdout",
     "output_type": "stream",
     "text": [
      "   X  Y\n",
      "0  1  5\n",
      "1  2  6\n",
      "2  3  7\n",
      "3  4  8\n"
     ]
    }
   ],
   "source": [
    "data = {'X': [1, 2, 3, 4], 'Y': [5, 6, 7, 8], 'Z': [9, 10, 11, 12]}\n",
    "df = pd.DataFrame(data)\n",
    "df.drop(columns=['Z'], inplace=True)\n",
    "print(df)"
   ]
  },
  {
   "cell_type": "code",
   "execution_count": 7,
   "metadata": {},
   "outputs": [
    {
     "name": "stdout",
     "output_type": "stream",
     "text": [
      "   X  Y\n",
      "0  4  8\n",
      "1  3  7\n",
      "2  2  6\n",
      "3  1  5 \n",
      " ****************************************************************************************************\n",
      "   X  Y\n",
      "3  1  5\n",
      "2  2  6\n",
      "1  3  7\n",
      "0  4  8\n"
     ]
    }
   ],
   "source": [
    "data = {'X': [4, 3, 2, 1], 'Y': [8, 7, 6, 5]}\n",
    "df = pd.DataFrame(data)\n",
    "print(df,\"\\n\", \"*\"*100)\n",
    "df.sort_values(by='X', inplace=True)\n",
    "print(df)"
   ]
  },
  {
   "cell_type": "code",
   "execution_count": 8,
   "metadata": {},
   "outputs": [
    {
     "name": "stdout",
     "output_type": "stream",
     "text": [
      "     Y\n",
      "X     \n",
      "1  6.0\n",
      "2  7.0\n"
     ]
    }
   ],
   "source": [
    "data = {'X': [1, 2, 1, 2], 'Y': [5, 6, 7, 8]}\n",
    "df = pd.DataFrame(data)\n",
    "grouped_df = df.groupby('X').mean()\n",
    "print(grouped_df)"
   ]
  },
  {
   "cell_type": "code",
   "execution_count": 9,
   "metadata": {},
   "outputs": [
    {
     "name": "stdout",
     "output_type": "stream",
     "text": [
      "X     6\n",
      "Y    15\n",
      "dtype: int64\n"
     ]
    }
   ],
   "source": [
    "data = {'X': [1, 2, 3], 'Y': [4, 5, 6]}\n",
    "df = pd.DataFrame(data)\n",
    "print(df.sum())"
   ]
  },
  {
   "cell_type": "code",
   "execution_count": 10,
   "metadata": {},
   "outputs": [
    {
     "name": "stdout",
     "output_type": "stream",
     "text": [
      "0    2.5\n",
      "1    3.5\n",
      "2    4.5\n",
      "dtype: float64\n"
     ]
    }
   ],
   "source": [
    "data = {'X': [1, 2, 3], 'Y': [4, 5, 6]}\n",
    "df = pd.DataFrame(data)\n",
    "print(df.mean(axis=1))"
   ]
  },
  {
   "cell_type": "code",
   "execution_count": 11,
   "metadata": {},
   "outputs": [
    {
     "name": "stdout",
     "output_type": "stream",
     "text": [
      "   X  Y\n",
      "0  1  4\n",
      "1  2  5\n",
      "2  3  6\n"
     ]
    }
   ],
   "source": [
    "data1 = {'X': [1, 2, 3]}\n",
    "data2 = {'Y': [4, 5, 6]}\n",
    "df1 = pd.DataFrame(data1)\n",
    "df2 = pd.DataFrame(data2)\n",
    "concatenated_df = pd.concat([df1, df2], axis=1)\n",
    "print(concatenated_df)"
   ]
  },
  {
   "cell_type": "code",
   "execution_count": 12,
   "metadata": {},
   "outputs": [
    {
     "name": "stdout",
     "output_type": "stream",
     "text": [
      "  key  value1  value2\n",
      "0   X       1       4\n",
      "1   Y       2       5\n"
     ]
    }
   ],
   "source": [
    "data1 = {'key': ['X', 'Y', 'Z'], 'value1': [1, 2, 3]}\n",
    "data2 = {'key': ['X', 'Y', 'D'], 'value2': [4, 5, 6]}\n",
    "df1 = pd.DataFrame(data1)\n",
    "df2 = pd.DataFrame(data2)\n",
    "merged_df = pd.merge(df1, df2, on='key')\n",
    "print(merged_df)"
   ]
  },
  {
   "cell_type": "code",
   "execution_count": 13,
   "metadata": {},
   "outputs": [
    {
     "name": "stdout",
     "output_type": "stream",
     "text": [
      "Y    one  two\n",
      "X            \n",
      "bar  3.0  4.0\n",
      "foo  1.0  2.0\n"
     ]
    }
   ],
   "source": [
    "data = {'X': ['foo', 'foo', 'bar', 'bar'], 'Y': ['one', 'two', 'one', 'two'], 'Z': [1, 2, 3, 4]}\n",
    "df = pd.DataFrame(data)\n",
    "pivot_table = df.pivot_table(values='Z', index='X', columns='Y')\n",
    "print(pivot_table)"
   ]
  },
  {
   "cell_type": "code",
   "execution_count": 14,
   "metadata": {},
   "outputs": [
    {
     "name": "stdout",
     "output_type": "stream",
     "text": [
      "Y    one  two\n",
      "X            \n",
      "bar    3    4\n",
      "foo    1    2\n"
     ]
    }
   ],
   "source": [
    "data = {'X': ['foo', 'foo', 'bar', 'bar'], 'Y': ['one', 'two', 'one', 'two'], 'Z': [1, 2, 3, 4]}\n",
    "df = pd.DataFrame(data)\n",
    "wide_df = df.pivot(index='X', columns='Y', values='Z')\n",
    "print(wide_df) "
   ]
  },
  {
   "cell_type": "code",
   "execution_count": 15,
   "metadata": {},
   "outputs": [
    {
     "name": "stdout",
     "output_type": "stream",
     "text": [
      "     X    Y\n",
      "X  1.0 -1.0\n",
      "Y -1.0  1.0\n"
     ]
    }
   ],
   "source": [
    "data = {'X': [1, 2, 3, 4], 'Y': [4, 3, 2, 1]}\n",
    "df = pd.DataFrame(data)\n",
    "correlation = df.corr()\n",
    "print(correlation)"
   ]
  },
  {
   "cell_type": "code",
   "execution_count": 16,
   "metadata": {},
   "outputs": [
    {
     "name": "stdout",
     "output_type": "stream",
     "text": [
      "0 1 4\n",
      "1 2 5\n",
      "2 3 6\n"
     ]
    }
   ],
   "source": [
    "data = {'X': [1, 2, 3], 'Y': [4, 5, 6]}\n",
    "df = pd.DataFrame(data)\n",
    "for index, row in df.iterrows():\n",
    "    print(index, row['X'], row['Y'])"
   ]
  },
  {
   "cell_type": "code",
   "execution_count": 17,
   "metadata": {},
   "outputs": [
    {
     "name": "stdout",
     "output_type": "stream",
     "text": [
      "   X   Y\n",
      "0  2   8\n",
      "1  4  10\n",
      "2  6  12\n"
     ]
    }
   ],
   "source": [
    "data = {'X': [1, 2, 3], 'Y': [4, 5, 6]}\n",
    "df = pd.DataFrame(data)\n",
    "# Apply a function to each element using the map method\n",
    "df = df.apply(lambda col: col.map(lambda x: x * 2))\n",
    "print(df)"
   ]
  },
  {
   "cell_type": "code",
   "execution_count": 18,
   "metadata": {},
   "outputs": [
    {
     "name": "stdout",
     "output_type": "stream",
     "text": [
      "   X  Y\n",
      "0  1  2\n",
      "1  3  4\n"
     ]
    }
   ],
   "source": [
    "data = [{'X': 1, 'Y': 2}, {'X': 3, 'Y': 4}]\n",
    "df = pd.DataFrame(data)\n",
    "print(df)"
   ]
  },
  {
   "cell_type": "code",
   "execution_count": 19,
   "metadata": {},
   "outputs": [
    {
     "name": "stdout",
     "output_type": "stream",
     "text": [
      "   X  Y\n",
      "0  1  4\n",
      "1  2  5\n",
      "2  3  6\n"
     ]
    }
   ],
   "source": [
    "data = {'X': [1, 2, 3], 'Y': [4, 5, 6]}\n",
    "df = pd.DataFrame(data)\n",
    "df.rename(columns={'X': 'X', 'Y': 'Y'}, inplace=True)\n",
    "print(df)"
   ]
  },
  {
   "cell_type": "code",
   "execution_count": 20,
   "metadata": {},
   "outputs": [
    {
     "name": "stdout",
     "output_type": "stream",
     "text": [
      "   X  Y\n",
      "2  3  6\n"
     ]
    }
   ],
   "source": [
    "data = {'X': [1, 2, 3, 4], 'Y': [4, 5, 6, 7]}\n",
    "df = pd.DataFrame(data)\n",
    "filtered_df = df[(df['X'] > 2) & (df['Y'] < 7)]\n",
    "print(filtered_df)"
   ]
  },
  {
   "cell_type": "code",
   "execution_count": 21,
   "metadata": {},
   "outputs": [
    {
     "name": "stdout",
     "output_type": "stream",
     "text": [
      "   X  Cumulative_Sum\n",
      "0  1               1\n",
      "1  2               3\n",
      "2  3               6\n",
      "3  4              10\n"
     ]
    }
   ],
   "source": [
    "data = {'X': [1, 2, 3, 4]}\n",
    "df = pd.DataFrame(data)\n",
    "df['Cumulative_Sum'] = df['X'].cumsum()\n",
    "print(df)"
   ]
  },
  {
   "cell_type": "code",
   "execution_count": 22,
   "metadata": {},
   "outputs": [
    {
     "name": "stdout",
     "output_type": "stream",
     "text": [
      "     X    Y\n",
      "0  1.0  4.0\n",
      "1  2.0  5.0\n"
     ]
    }
   ],
   "source": [
    "data = {'X': [1, 2, None, 4], 'Y': [4, 5, 6, None]}\n",
    "df = pd.DataFrame(data)\n",
    "df.dropna(inplace=True)\n",
    "print(df)"
   ]
  },
  {
   "cell_type": "code",
   "execution_count": 23,
   "metadata": {},
   "outputs": [
    {
     "name": "stdout",
     "output_type": "stream",
     "text": [
      "   X  Y\n",
      "0  1  5\n",
      "1  2  6\n",
      "2  3  0\n",
      "3  4  0\n"
     ]
    }
   ],
   "source": [
    "data = {'X': [1, 2, 3, 4], 'Y': [5, 6, 7, 8]}\n",
    "df = pd.DataFrame(data)\n",
    "df.loc[df['X'] > 2, 'Y'] = 0\n",
    "print(df)"
   ]
  },
  {
   "cell_type": "code",
   "execution_count": 24,
   "metadata": {},
   "outputs": [
    {
     "name": "stdout",
     "output_type": "stream",
     "text": [
      "              Value\n",
      "Group Number       \n",
      "X     1          10\n",
      "      2          20\n",
      "Y     1          30\n",
      "      2          40\n"
     ]
    }
   ],
   "source": [
    "arrays = [['X', 'X', 'Y', 'Y'], [1, 2, 1, 2]]\n",
    "index = pd.MultiIndex.from_arrays(arrays, names=('Group', 'Number'))\n",
    "data = {'Value': [10, 20, 30, 40]}\n",
    "df = pd.DataFrame(data, index=index)\n",
    "print(df)"
   ]
  },
  {
   "cell_type": "code",
   "execution_count": 25,
   "metadata": {},
   "outputs": [
    {
     "name": "stdout",
     "output_type": "stream",
     "text": [
      "   X  Rolling_Mean\n",
      "0  1           NaN\n",
      "1  2           NaN\n",
      "2  3           2.0\n",
      "3  4           3.0\n",
      "4  5           4.0\n",
      "5  6           5.0\n"
     ]
    }
   ],
   "source": [
    "data = {'X': [1, 2, 3, 4, 5, 6]}\n",
    "df = pd.DataFrame(data)\n",
    "df['Rolling_Mean'] = df['X'].rolling(window=3).mean()\n",
    "print(df)"
   ]
  },
  {
   "cell_type": "code",
   "execution_count": 26,
   "metadata": {},
   "outputs": [
    {
     "name": "stdout",
     "output_type": "stream",
     "text": [
      "   X  Y\n",
      "0  1  2\n",
      "1  3  4\n",
      "2  5  6\n"
     ]
    }
   ],
   "source": [
    "data = [(1, 2), (3, 4), (5, 6)]\n",
    "df = pd.DataFrame(data, columns=['X', 'Y'])\n",
    "print(df)"
   ]
  },
  {
   "cell_type": "code",
   "execution_count": 27,
   "metadata": {},
   "outputs": [
    {
     "name": "stdout",
     "output_type": "stream",
     "text": [
      "   X  Y\n",
      "0  1  3\n",
      "1  2  4\n",
      "2  5  6\n"
     ]
    }
   ],
   "source": [
    "data = {'X': [1, 2], 'Y': [3, 4]}\n",
    "df = pd.DataFrame(data)\n",
    "\n",
    "# Create a new row as a DataFrame\n",
    "new_row = pd.DataFrame({'X': [5], 'Y': [6]})\n",
    "# Concatenate the new row to the DataFrame\n",
    "df = pd.concat([df, new_row], ignore_index=True)\n",
    "print(df)"
   ]
  },
  {
   "cell_type": "code",
   "execution_count": 28,
   "metadata": {},
   "outputs": [
    {
     "name": "stdout",
     "output_type": "stream",
     "text": [
      "          X         Y         Z\n",
      "0  0.659213  0.798338  0.533442\n",
      "1  0.703573  0.806085  0.754833\n",
      "2  0.766439  0.991919  0.998551\n",
      "3  0.512947  0.075060  0.405346\n"
     ]
    }
   ],
   "source": [
    "data = np.random.rand(4, 3)\n",
    "df = pd.DataFrame(data, columns=['X', 'Y', 'Z'])\n",
    "print(df)"
   ]
  },
  {
   "cell_type": "code",
   "execution_count": 29,
   "metadata": {},
   "outputs": [
    {
     "name": "stdout",
     "output_type": "stream",
     "text": [
      "   X  Y  Rank\n",
      "0  3  2   3.0\n",
      "1  1  3   1.5\n",
      "2  4  1   4.0\n",
      "3  1  4   1.5\n"
     ]
    }
   ],
   "source": [
    "data = {'X': [3, 1, 4, 1], 'Y': [2, 3, 1, 4]}\n",
    "df = pd.DataFrame(data)\n",
    "df['Rank'] = df['X'].rank()\n",
    "print(df)"
   ]
  },
  {
   "cell_type": "code",
   "execution_count": 30,
   "metadata": {},
   "outputs": [
    {
     "name": "stdout",
     "output_type": "stream",
     "text": [
      "   X\n",
      "0  1\n",
      "1  2\n",
      "2  3\n"
     ]
    }
   ],
   "source": [
    "data = {'X': ['1', '2', '3']}\n",
    "df = pd.DataFrame(data)\n",
    "df['X'] = df['X'].astype(int)\n",
    "print(df)"
   ]
  },
  {
   "cell_type": "code",
   "execution_count": 31,
   "metadata": {},
   "outputs": [
    {
     "name": "stdout",
     "output_type": "stream",
     "text": [
      "     X\n",
      "1  bar\n",
      "2  baz\n"
     ]
    }
   ],
   "source": [
    "data = {'X': ['foo', 'bar', 'baz', 'qux']}\n",
    "df = pd.DataFrame(data)\n",
    "filtered_df = df[df['X'].str.contains('ba')]\n",
    "print(filtered_df)"
   ]
  },
  {
   "cell_type": "code",
   "execution_count": 32,
   "metadata": {},
   "outputs": [
    {
     "name": "stdout",
     "output_type": "stream",
     "text": [
      "      col1  col2  col3\n",
      "row1     1     2     3\n",
      "row2     4     5     6\n",
      "row3     7     8     9\n"
     ]
    }
   ],
   "source": [
    "data = [[1, 2, 3], [4, 5, 6], [7, 8, 9]]\n",
    "df = pd.DataFrame(data, index=['row1', 'row2', 'row3'], columns=['col1', 'col2', 'col3'])\n",
    "print(df)"
   ]
  },
  {
   "cell_type": "code",
   "execution_count": 33,
   "metadata": {},
   "outputs": [
    {
     "name": "stdout",
     "output_type": "stream",
     "text": [
      "   0  1  2\n",
      "X  1  2  3\n",
      "Y  4  5  6\n"
     ]
    }
   ],
   "source": [
    "data = {'X': [1, 2, 3], 'Y': [4, 5, 6]}\n",
    "df = pd.DataFrame(data)\n",
    "transposed_df = df.T\n",
    "print(transposed_df)"
   ]
  },
  {
   "cell_type": "code",
   "execution_count": 34,
   "metadata": {},
   "outputs": [
    {
     "name": "stdout",
     "output_type": "stream",
     "text": [
      "   Y\n",
      "X   \n",
      "1  4\n",
      "2  5\n",
      "3  6\n"
     ]
    }
   ],
   "source": [
    "data = {'X': [1, 2, 3], 'Y': [4, 5, 6]}\n",
    "df = pd.DataFrame(data)\n",
    "df.set_index('X', inplace=True)\n",
    "print(df)"
   ]
  },
  {
   "cell_type": "code",
   "execution_count": 35,
   "metadata": {},
   "outputs": [
    {
     "name": "stdout",
     "output_type": "stream",
     "text": [
      "   X  Y\n",
      "0  1  4\n",
      "1  2  5\n",
      "2  3  6\n"
     ]
    }
   ],
   "source": [
    "data = {'X': [1, 2, 3], 'Y': [4, 5, 6]}\n",
    "df = pd.DataFrame(data)\n",
    "df.set_index('X', inplace=True)\n",
    "df.reset_index(inplace=True)\n",
    "print(df)"
   ]
  },
  {
   "cell_type": "code",
   "execution_count": 36,
   "metadata": {},
   "outputs": [
    {
     "name": "stdout",
     "output_type": "stream",
     "text": [
      "   col_X  col_Y\n",
      "0      1      4\n",
      "1      2      5\n",
      "2      3      6\n"
     ]
    }
   ],
   "source": [
    "data = {'X': [1, 2, 3], 'Y': [4, 5, 6]}\n",
    "df = pd.DataFrame(data)\n",
    "df = df.add_prefix('col_')\n",
    "print(df)"
   ]
  },
  {
   "cell_type": "code",
   "execution_count": 37,
   "metadata": {},
   "outputs": [
    {
     "name": "stdout",
     "output_type": "stream",
     "text": [
      "            X\n",
      "2020-01-03  3\n",
      "2020-01-04  4\n",
      "2020-01-05  5\n"
     ]
    }
   ],
   "source": [
    "date_range = pd.date_range(start='1/1/2020', periods=5, freq='D')\n",
    "data = {'X': [1, 2, 3, 4, 5]}\n",
    "df = pd.DataFrame(data, index=date_range)\n",
    "filtered_df = df['2020-01-03':'2020-01-05']\n",
    "print(filtered_df)"
   ]
  },
  {
   "cell_type": "code",
   "execution_count": 38,
   "metadata": {},
   "outputs": [
    {
     "name": "stdout",
     "output_type": "stream",
     "text": [
      "   X  Y\n",
      "0  1  4\n",
      "1  2  5\n",
      "3  3  6\n"
     ]
    }
   ],
   "source": [
    "data = {'X': [1, 2, 2, 3], 'Y': [4, 5, 5, 6]}\n",
    "df = pd.DataFrame(data)\n",
    "df.drop_duplicates(inplace=True)\n",
    "print(df)"
   ]
  },
  {
   "cell_type": "code",
   "execution_count": 39,
   "metadata": {},
   "outputs": [
    {
     "name": "stdout",
     "output_type": "stream",
     "text": [
      "              Value\n",
      "Group Number       \n",
      "X     1          10\n",
      "      2          20\n",
      "Y     1          30\n",
      "      2          40\n"
     ]
    }
   ],
   "source": [
    "arrays = [['X', 'X', 'Y', 'Y'], [1, 2, 1, 2]]\n",
    "index = pd.MultiIndex.from_arrays(arrays, names=('Group', 'Number'))\n",
    "data = {'Value': [10, 20, 30, 40]}\n",
    "df = pd.DataFrame(data, index=index)\n",
    "print(df)"
   ]
  },
  {
   "cell_type": "code",
   "execution_count": 40,
   "metadata": {},
   "outputs": [
    {
     "name": "stdout",
     "output_type": "stream",
     "text": [
      "    X  Difference\n",
      "0   1         NaN\n",
      "1   3         2.0\n",
      "2   6         3.0\n",
      "3  10         4.0\n"
     ]
    }
   ],
   "source": [
    "data = {'X': [1, 3, 6, 10]}\n",
    "df = pd.DataFrame(data)\n",
    "df['Difference'] = df['X'].diff()\n",
    "print(df)"
   ]
  },
  {
   "cell_type": "code",
   "execution_count": 41,
   "metadata": {},
   "outputs": [
    {
     "name": "stdout",
     "output_type": "stream",
     "text": [
      "Group  X       Y    \n",
      "Type  C1  C2  C1  C2\n",
      "0      1   2   3   4\n",
      "1      5   6   7   8\n",
      "2      9  10  11  12\n"
     ]
    }
   ],
   "source": [
    "arrays = [['X', 'X', 'Y', 'Y'], ['C1', 'C2', 'C1', 'C2']]\n",
    "columns = pd.MultiIndex.from_arrays(arrays, names=('Group', 'Type'))\n",
    "data = [[1, 2, 3, 4], [5, 6, 7, 8], [9, 10, 11, 12]]\n",
    "df = pd.DataFrame(data, columns=columns)\n",
    "print(df)"
   ]
  },
  {
   "cell_type": "code",
   "execution_count": 42,
   "metadata": {},
   "outputs": [
    {
     "name": "stdout",
     "output_type": "stream",
     "text": [
      "Empty DataFrame\n",
      "Columns: [X]\n",
      "Index: []\n"
     ]
    }
   ],
   "source": [
    "data = {'X': ['foo', 'bar', 'baz', 'qux']}\n",
    "df = pd.DataFrame(data)\n",
    "filtered_df = df[df['X'].str.len() > 3]\n",
    "print(filtered_df)"
   ]
  },
  {
   "cell_type": "code",
   "execution_count": 43,
   "metadata": {},
   "outputs": [
    {
     "name": "stdout",
     "output_type": "stream",
     "text": [
      "   X  Pct_Change\n",
      "0  1         NaN\n",
      "1  2    1.000000\n",
      "2  3    0.500000\n",
      "3  4    0.333333\n"
     ]
    }
   ],
   "source": [
    "data = {'X': [1, 2, 3, 4]}\n",
    "df = pd.DataFrame(data)\n",
    "df['Pct_Change'] = df['X'].pct_change()\n",
    "print(df)"
   ]
  },
  {
   "cell_type": "code",
   "execution_count": 44,
   "metadata": {},
   "outputs": [
    {
     "name": "stdout",
     "output_type": "stream",
     "text": [
      "   X  Y\n",
      "0  1  4\n",
      "1  2  5\n",
      "2  3  6\n"
     ]
    }
   ],
   "source": [
    "data = {'X': pd.Series([1, 2, 3]), 'Y': pd.Series([4, 5, 6])}\n",
    "df = pd.DataFrame(data)\n",
    "print(df)"
   ]
  },
  {
   "cell_type": "code",
   "execution_count": 45,
   "metadata": {},
   "outputs": [
    {
     "name": "stdout",
     "output_type": "stream",
     "text": [
      "   X  Y\n",
      "1  2  6\n",
      "2  3  7\n"
     ]
    }
   ],
   "source": [
    "data = {'X': [1, 2, 3, 4], 'Y': [5, 6, 7, 8]}\n",
    "df = pd.DataFrame(data)\n",
    "filtered_df = df[df['X'].isin([2, 3])]\n",
    "print(filtered_df)"
   ]
  },
  {
   "cell_type": "code",
   "execution_count": 46,
   "metadata": {},
   "outputs": [
    {
     "name": "stdout",
     "output_type": "stream",
     "text": [
      "   X  Y  zscore_A\n",
      "0  1  4 -1.341641\n",
      "1  2  5 -0.447214\n",
      "2  3  6  0.447214\n",
      "3  4  7  1.341641\n"
     ]
    }
   ],
   "source": [
    "data = {'X': [1, 2, 3, 4], 'Y': [4, 5, 6, 7]}\n",
    "df = pd.DataFrame(data)\n",
    "df['zscore_A'] = (df['X'] - np.mean(df['X'])) / np.std(df['X'])\n",
    "print(df)"
   ]
  },
  {
   "cell_type": "code",
   "execution_count": 47,
   "metadata": {},
   "outputs": [
    {
     "name": "stdout",
     "output_type": "stream",
     "text": [
      "               X          Y          Z\n",
      "count   5.000000   5.000000   5.000000\n",
      "mean   45.000000  44.600000  45.600000\n",
      "std    26.842131  27.245183  29.211299\n",
      "min    14.000000  13.000000   6.000000\n",
      "25%    28.000000  21.000000  29.000000\n",
      "50%    37.000000  48.000000  46.000000\n",
      "75%    73.000000  65.000000  71.000000\n",
      "max    73.000000  76.000000  76.000000\n"
     ]
    }
   ],
   "source": [
    "data = np.random.randint(1, 100, size=(5, 3))\n",
    "df = pd.DataFrame(data, columns=['X', 'Y', 'Z'])\n",
    "print(df.describe())"
   ]
  },
  {
   "cell_type": "code",
   "execution_count": 48,
   "metadata": {},
   "outputs": [
    {
     "name": "stdout",
     "output_type": "stream",
     "text": [
      "   X  Y  Rank_A  Rank_B\n",
      "0  3  2     3.0     2.0\n",
      "1  1  3     1.5     3.0\n",
      "2  4  1     4.0     1.0\n",
      "3  1  4     1.5     4.0\n"
     ]
    }
   ],
   "source": [
    "data = {'X': [3, 1, 4, 1], 'Y': [2, 3, 1, 4]}\n",
    "df = pd.DataFrame(data)\n",
    "df['Rank_A'] = df['X'].rank()\n",
    "df['Rank_B'] = df['Y'].rank()\n",
    "print(df)"
   ]
  },
  {
   "cell_type": "code",
   "execution_count": 49,
   "metadata": {},
   "outputs": [
    {
     "name": "stdout",
     "output_type": "stream",
     "text": [
      "     X\n",
      "1  bar\n",
      "2  baz\n",
      "3  qux\n"
     ]
    }
   ],
   "source": [
    "data = {'X': ['foo', 'bar', 'baz', 'qux']}\n",
    "df = pd.DataFrame(data)\n",
    "filtered_df = df[df['X'].str.contains('ba|qu')]\n",
    "print(filtered_df)"
   ]
  },
  {
   "cell_type": "code",
   "execution_count": 50,
   "metadata": {},
   "outputs": [
    {
     "name": "stdout",
     "output_type": "stream",
     "text": [
      "     X\n",
      "1  bar\n",
      "2  baz\n",
      "3  qux\n"
     ]
    }
   ],
   "source": [
    "data = {'X': ['foo', 'bar', 'baz', 'qux']}\n",
    "df = pd.DataFrame(data)\n",
    "filtered_df = df[df['X'].str.contains('ba|qu')]\n",
    "print(filtered_df)"
   ]
  },
  {
   "cell_type": "code",
   "execution_count": 51,
   "metadata": {},
   "outputs": [
    {
     "name": "stdout",
     "output_type": "stream",
     "text": [
      "X    1.529951\n",
      "Y    2.176245\n",
      "Z   -2.584771\n",
      "dtype: float64\n"
     ]
    }
   ],
   "source": [
    "data = np.random.rand(4, 3)\n",
    "df = pd.DataFrame(data, columns=['X', 'Y', 'Z'])\n",
    "print(df.kurt())"
   ]
  },
  {
   "cell_type": "code",
   "execution_count": 52,
   "metadata": {},
   "outputs": [
    {
     "name": "stdout",
     "output_type": "stream",
     "text": [
      "   X  Cumulative_Product\n",
      "0  1                   1\n",
      "1  2                   2\n",
      "2  3                   6\n",
      "3  4                  24\n"
     ]
    }
   ],
   "source": [
    "data = {'X': [1, 2, 3, 4]}\n",
    "df = pd.DataFrame(data)\n",
    "df['Cumulative_Product'] = df['X'].cumprod()\n",
    "print(df) "
   ]
  },
  {
   "cell_type": "code",
   "execution_count": 53,
   "metadata": {},
   "outputs": [
    {
     "name": "stdout",
     "output_type": "stream",
     "text": [
      "   X  Rolling_Std\n",
      "0  1          NaN\n",
      "1  2          NaN\n",
      "2  3          1.0\n",
      "3  4          1.0\n",
      "4  5          1.0\n",
      "5  6          1.0\n"
     ]
    }
   ],
   "source": [
    "data = {'X': [1, 2, 3, 4, 5, 6]}\n",
    "df = pd.DataFrame(data)\n",
    "df['Rolling_Std'] = df['X'].rolling(window=3).std()\n",
    "print(df)"
   ]
  },
  {
   "cell_type": "code",
   "execution_count": 54,
   "metadata": {},
   "outputs": [
    {
     "name": "stdout",
     "output_type": "stream",
     "text": [
      "   X  Expanding_Mean\n",
      "0  1             1.0\n",
      "1  2             1.5\n",
      "2  3             2.0\n",
      "3  4             2.5\n",
      "4  5             3.0\n",
      "5  6             3.5\n"
     ]
    }
   ],
   "source": [
    "data = {'X': [1, 2, 3, 4, 5, 6]}\n",
    "df = pd.DataFrame(data)\n",
    "df['Expanding_Mean'] = df['X'].expanding().mean()\n",
    "print(df)"
   ]
  },
  {
   "cell_type": "code",
   "execution_count": 55,
   "metadata": {},
   "outputs": [
    {
     "name": "stdout",
     "output_type": "stream",
     "text": [
      "          X         Y         Z\n",
      "X  0.083071 -0.057063  0.022209\n",
      "Y -0.057063  0.077920 -0.075015\n",
      "Z  0.022209 -0.075015  0.104358\n"
     ]
    }
   ],
   "source": [
    "data = np.random.rand(4, 3)\n",
    "df = pd.DataFrame(data, columns=['X', 'Y', 'Z'])\n",
    "print(df.cov()) "
   ]
  },
  {
   "cell_type": "code",
   "execution_count": 56,
   "metadata": {},
   "outputs": [
    {
     "name": "stdout",
     "output_type": "stream",
     "text": [
      "          X         Y         Z\n",
      "X  1.000000  0.073607 -0.712161\n",
      "Y  0.073607  1.000000  0.642785\n",
      "Z -0.712161  0.642785  1.000000\n"
     ]
    }
   ],
   "source": [
    "data = np.random.rand(4, 3)\n",
    "df = pd.DataFrame(data, columns=['X', 'Y', 'Z'])\n",
    "print(df.corr())"
   ]
  },
  {
   "cell_type": "code",
   "execution_count": 57,
   "metadata": {},
   "outputs": [
    {
     "name": "stdout",
     "output_type": "stream",
     "text": [
      "   X  Y  Rolling_Corr\n",
      "0  1  6           NaN\n",
      "1  2  5           NaN\n",
      "2  3  4          -1.0\n",
      "3  4  3          -1.0\n",
      "4  5  2          -1.0\n",
      "5  6  1          -1.0\n"
     ]
    }
   ],
   "source": [
    "data = {'X': [1, 2, 3, 4, 5, 6], 'Y': [6, 5, 4, 3, 2, 1]}\n",
    "df = pd.DataFrame(data)\n",
    "df['Rolling_Corr'] = df['X'].rolling(window=3).corr(df['Y'])\n",
    "print(df) "
   ]
  },
  {
   "cell_type": "code",
   "execution_count": 58,
   "metadata": {},
   "outputs": [
    {
     "name": "stdout",
     "output_type": "stream",
     "text": [
      "   X  Expanding_Var\n",
      "0  1            NaN\n",
      "1  2       0.500000\n",
      "2  3       1.000000\n",
      "3  4       1.666667\n",
      "4  5       2.500000\n",
      "5  6       3.500000\n"
     ]
    }
   ],
   "source": [
    "data = {'X': [1, 2, 3, 4, 5, 6]}\n",
    "df = pd.DataFrame(data)\n",
    "df['Expanding_Var'] = df['X'].expanding().var()\n",
    "print(df)"
   ]
  },
  {
   "cell_type": "code",
   "execution_count": 59,
   "metadata": {},
   "outputs": [
    {
     "name": "stdout",
     "output_type": "stream",
     "text": [
      "               X\n",
      "2020-01-31   465\n",
      "2020-02-29  1305\n",
      "2020-03-31  2325\n",
      "2020-04-30   855\n"
     ]
    },
    {
     "name": "stderr",
     "output_type": "stream",
     "text": [
      "/tmp/ipykernel_6054/3297362088.py:4: FutureWarning: 'M' is deprecated and will be removed in a future version, please use 'ME' instead.\n",
      "  monthly_df = df.resample('M').sum()\n"
     ]
    }
   ],
   "source": [
    "date_range = pd.date_range(start='1/1/2020', periods=100, freq='D')\n",
    "data = {'X': range(100)}\n",
    "df = pd.DataFrame(data, index=date_range)\n",
    "monthly_df = df.resample('M').sum()\n",
    "print(monthly_df)"
   ]
  },
  {
   "cell_type": "code",
   "execution_count": 60,
   "metadata": {},
   "outputs": [
    {
     "name": "stdout",
     "output_type": "stream",
     "text": [
      "   X      EMA\n",
      "0  1  1.00000\n",
      "1  2  1.50000\n",
      "2  3  2.25000\n",
      "3  4  3.12500\n",
      "4  5  4.06250\n",
      "5  6  5.03125\n"
     ]
    }
   ],
   "source": [
    "data = {'X': [1, 2, 3, 4, 5, 6]}\n",
    "df = pd.DataFrame(data)\n",
    "df['EMA'] = df['X'].ewm(span=3, adjust=False).mean()\n",
    "print(df) "
   ]
  },
  {
   "cell_type": "code",
   "execution_count": 61,
   "metadata": {},
   "outputs": [
    {
     "name": "stdout",
     "output_type": "stream",
     "text": [
      "     X  Y    Z\n",
      "0  2.0  2  7.0\n",
      "1  NaN  4  NaN\n",
      "2  NaN  5  NaN\n",
      "3  NaN  7  NaN\n",
      "4  NaN  9  NaN\n"
     ]
    }
   ],
   "source": [
    "data = np.random.randint(1, 10, size=(5, 3))\n",
    "df = pd.DataFrame(data, columns=['X', 'Y', 'Z'])\n",
    "print(df.mode()) "
   ]
  },
  {
   "cell_type": "code",
   "execution_count": 62,
   "metadata": {},
   "outputs": [
    {
     "name": "stdout",
     "output_type": "stream",
     "text": [
      "   X  Y  zscore_A  zscore_B\n",
      "0  1  4 -1.341641 -1.341641\n",
      "1  2  5 -0.447214 -0.447214\n",
      "2  3  6  0.447214  0.447214\n",
      "3  4  7  1.341641  1.341641\n"
     ]
    }
   ],
   "source": [
    "data = {'X': [1, 2, 3, 4], 'Y': [4, 5, 6, 7]}\n",
    "df = pd.DataFrame(data)\n",
    "df['zscore_A'] = (df['X'] - np.mean(df['X'])) / np.std(df['X'])\n",
    "df['zscore_B'] = (df['Y'] - np.mean(df['Y'])) / np.std(df['Y'])\n",
    "print(df) "
   ]
  },
  {
   "cell_type": "code",
   "execution_count": 63,
   "metadata": {},
   "outputs": [
    {
     "name": "stdout",
     "output_type": "stream",
     "text": [
      "X    0.349171\n",
      "Y    0.792039\n",
      "Z    0.171493\n",
      "dtype: float64\n"
     ]
    }
   ],
   "source": [
    "data = np.random.rand(4, 3)\n",
    "df = pd.DataFrame(data, columns=['X', 'Y', 'Z'])\n",
    "print(df.median())"
   ]
  },
  {
   "cell_type": "code",
   "execution_count": 64,
   "metadata": {},
   "outputs": [
    {
     "name": "stdout",
     "output_type": "stream",
     "text": [
      "   X  Y\n",
      "0  2  5\n",
      "1  3  6\n",
      "2  4  7\n"
     ]
    }
   ],
   "source": [
    "data = {'X': [1, 2, 3], 'Y': [4, 5, 6]}\n",
    "df = pd.DataFrame(data)\n",
    "df = df.apply(lambda x: x + 1)\n",
    "print(df)"
   ]
  },
  {
   "cell_type": "code",
   "execution_count": 65,
   "metadata": {},
   "outputs": [
    {
     "name": "stdout",
     "output_type": "stream",
     "text": [
      "       Value\n",
      "Group       \n",
      "X       15.0\n",
      "Y       35.0\n"
     ]
    }
   ],
   "source": [
    "arrays = [['X', 'X', 'Y', 'Y'], [1, 2, 1, 2]]\n",
    "index = pd.MultiIndex.from_arrays(arrays, names=('Group', 'Number'))\n",
    "data = {'Value': [10, 20, 30, 40]}\n",
    "df = pd.DataFrame(data, index=index)\n",
    "grouped_df = df.groupby('Group').mean()\n",
    "print(grouped_df) "
   ]
  },
  {
   "cell_type": "code",
   "execution_count": 66,
   "metadata": {},
   "outputs": [
    {
     "name": "stdout",
     "output_type": "stream",
     "text": [
      "X    25.0\n",
      "Y    25.0\n",
      "dtype: float64\n"
     ]
    }
   ],
   "source": [
    "data = {'X': [1, 2, None, 4], 'Y': [4, None, 6, 8]}\n",
    "df = pd.DataFrame(data)\n",
    "missing_percentage = df.isnull().mean() * 100\n",
    "print(missing_percentage)"
   ]
  },
  {
   "cell_type": "code",
   "execution_count": 67,
   "metadata": {},
   "outputs": [
    {
     "name": "stdout",
     "output_type": "stream",
     "text": [
      "   X  Y  Sum\n",
      "0  1  4    5\n",
      "1  2  5    7\n",
      "2  3  6    9\n"
     ]
    }
   ],
   "source": [
    "data = {'X': [1, 2, 3], 'Y': [4, 5, 6]}\n",
    "df = pd.DataFrame(data)\n",
    "df['Sum'] = df.apply(lambda row: row['X'] + row['Y'], axis=1)\n",
    "print(df)"
   ]
  },
  {
   "cell_type": "code",
   "execution_count": 68,
   "metadata": {},
   "outputs": [
    {
     "name": "stdout",
     "output_type": "stream",
     "text": [
      "             X         Y         Z\n",
      "0.25  0.366271  0.604743  0.208919\n",
      "0.50  0.536915  0.821640  0.392537\n",
      "0.75  0.705893  0.936400  0.675915\n"
     ]
    }
   ],
   "source": [
    "data = np.random.rand(4, 3)\n",
    "df = pd.DataFrame(data, columns=['X', 'Y', 'Z'])\n",
    "print(df.quantile([0.25, 0.5, 0.75])) "
   ]
  },
  {
   "cell_type": "code",
   "execution_count": 69,
   "metadata": {},
   "outputs": [
    {
     "name": "stdout",
     "output_type": "stream",
     "text": [
      "X    0.642328\n",
      "Y    0.729580\n",
      "Z    0.090911\n",
      "dtype: float64\n"
     ]
    }
   ],
   "source": [
    "data = np.random.rand(4, 3)\n",
    "df = pd.DataFrame(data, columns=['X', 'Y', 'Z'])\n",
    "Q1 = df.quantile(0.25)\n",
    "Q3 = df.quantile(0.75)\n",
    "IQR = Q3 - Q1\n",
    "print(IQR) "
   ]
  },
  {
   "cell_type": "code",
   "execution_count": 70,
   "metadata": {},
   "outputs": [
    {
     "name": "stdout",
     "output_type": "stream",
     "text": [
      "            X  Rolling_Mean\n",
      "2020-01-01  0           NaN\n",
      "2020-01-02  1           NaN\n",
      "2020-01-03  2           1.0\n",
      "2020-01-04  3           2.0\n",
      "2020-01-05  4           3.0\n",
      "2020-01-06  5           4.0\n",
      "2020-01-07  6           5.0\n",
      "2020-01-08  7           6.0\n",
      "2020-01-09  8           7.0\n",
      "2020-01-10  9           8.0\n"
     ]
    }
   ],
   "source": [
    "date_range = pd.date_range(start='1/1/2020', periods=10, freq='D')\n",
    "data = {'X': range(10)}\n",
    "df = pd.DataFrame(data, index=date_range)\n",
    "df['Rolling_Mean'] = df['X'].rolling(window=3).mean()\n",
    "print(df)"
   ]
  },
  {
   "cell_type": "code",
   "execution_count": 71,
   "metadata": {},
   "outputs": [
    {
     "name": "stdout",
     "output_type": "stream",
     "text": [
      "   X  Cumulative_Max\n",
      "0  1               1\n",
      "1  2               2\n",
      "2  3               3\n",
      "3  2               3\n",
      "4  1               3\n"
     ]
    }
   ],
   "source": [
    "data = {'X': [1, 2, 3, 2, 1]}\n",
    "df = pd.DataFrame(data)\n",
    "df['Cumulative_Max'] = df['X'].cummax()\n",
    "print(df) "
   ]
  },
  {
   "cell_type": "code",
   "execution_count": 72,
   "metadata": {},
   "outputs": [
    {
     "name": "stdout",
     "output_type": "stream",
     "text": [
      "   X  Cumulative_Min\n",
      "0  1               1\n",
      "1  2               1\n",
      "2  3               1\n",
      "3  2               1\n",
      "4  1               1\n"
     ]
    }
   ],
   "source": [
    "data = {'X': [1, 2, 3, 2, 1]}\n",
    "df = pd.DataFrame(data)\n",
    "df['Cumulative_Min'] = df['X'].cummin()\n",
    "print(df)"
   ]
  },
  {
   "cell_type": "code",
   "execution_count": 73,
   "metadata": {},
   "outputs": [
    {
     "name": "stdout",
     "output_type": "stream",
     "text": [
      "          X         Y         Z  Cumulative_Var\n",
      "0  0.479009  0.791829  0.243447             NaN\n",
      "1  0.516924  0.186691  0.934084        0.000719\n",
      "2  0.907934  0.494172  0.226286        0.056384\n",
      "3  0.812011  0.421726  0.636714        0.045456\n",
      "4  0.406586  0.713432  0.895130        0.048930\n",
      "5  0.606965  0.523693  0.494069        0.039196\n",
      "6  0.336053  0.378870  0.515661        0.044309\n",
      "7  0.911831  0.855513  0.994615        0.051678\n",
      "8  0.853697  0.035471  0.629507        0.051175\n",
      "9  0.242619  0.755980  0.633594        0.061913\n"
     ]
    }
   ],
   "source": [
    "data = np.random.rand(10, 3)\n",
    "df = pd.DataFrame(data, columns=['X', 'Y', 'Z'])\n",
    "df['Cumulative_Var'] = df['X'].expanding().var()\n",
    "print(df)"
   ]
  },
  {
   "cell_type": "code",
   "execution_count": 74,
   "metadata": {},
   "outputs": [
    {
     "name": "stdout",
     "output_type": "stream",
     "text": [
      "   X   Y\n",
      "0  2   8\n",
      "1  4  10\n",
      "2  6  12\n"
     ]
    }
   ],
   "source": [
    "data = {'X': [1, 2, 3], 'Y': [4, 5, 6]}\n",
    "df = pd.DataFrame(data)\n",
    "# Define the custom function\n",
    "def custom_function(x):\n",
    "    return x * 2\n",
    "# Apply the function to each element using map on each column\n",
    "df = df.apply(lambda col: col.map(custom_function))\n",
    "# Print the DataFrame\n",
    "print(df) "
   ]
  },
  {
   "cell_type": "code",
   "execution_count": 75,
   "metadata": {},
   "outputs": [
    {
     "name": "stdout",
     "output_type": "stream",
     "text": [
      "          X         Y         Z\n",
      "0 -0.189354 -0.013691  1.315007\n",
      "1 -0.693118  1.402130 -0.902863\n",
      "2  1.464553 -0.507186  0.224429\n",
      "3 -0.582081 -0.881253 -0.636574\n"
     ]
    }
   ],
   "source": [
    "data = np.random.rand(4, 3)\n",
    "df = pd.DataFrame(data, columns=['X', 'Y', 'Z'])\n",
    "df = df.apply(lambda x: (x - x.mean()) / x.std(), axis=0)\n",
    "print(df) "
   ]
  },
  {
   "cell_type": "code",
   "execution_count": 76,
   "metadata": {},
   "outputs": [
    {
     "name": "stdout",
     "output_type": "stream",
     "text": [
      "     X  Y  Cumulative_Sum\n",
      "0  foo  1               1\n",
      "1  bar  2               2\n",
      "2  foo  3               4\n",
      "3  bar  4               6\n"
     ]
    }
   ],
   "source": [
    "data = {'X': ['foo', 'bar', 'foo', 'bar'], 'Y': [1, 2, 3, 4]}\n",
    "df = pd.DataFrame(data)\n",
    "df['Cumulative_Sum'] = df.groupby('X')['Y'].cumsum()\n",
    "print(df) "
   ]
  },
  {
   "cell_type": "code",
   "execution_count": 77,
   "metadata": {},
   "outputs": [
    {
     "name": "stdout",
     "output_type": "stream",
     "text": [
      "     X    Y    Z\n",
      "0  2.0  4.0  1.0\n",
      "1  4.0  2.0  3.0\n",
      "2  3.0  1.0  4.0\n",
      "3  1.0  3.0  2.0\n"
     ]
    }
   ],
   "source": [
    "data = np.random.rand(4, 3)\n",
    "df = pd.DataFrame(data, columns=['X', 'Y', 'Z'])\n",
    "df = df.rank()\n",
    "print(df)"
   ]
  },
  {
   "cell_type": "code",
   "execution_count": 78,
   "metadata": {},
   "outputs": [
    {
     "name": "stdout",
     "output_type": "stream",
     "text": [
      "     X  Y  Cumulative_Product\n",
      "0  foo  1                   1\n",
      "1  bar  2                   2\n",
      "2  foo  3                   3\n",
      "3  bar  4                   8\n"
     ]
    }
   ],
   "source": [
    "data = {'X': ['foo', 'bar', 'foo', 'bar'], 'Y': [1, 2, 3, 4]}\n",
    "df = pd.DataFrame(data)\n",
    "df['Cumulative_Product'] = df.groupby('X')['Y'].cumprod()\n",
    "print(df) "
   ]
  },
  {
   "cell_type": "code",
   "execution_count": 79,
   "metadata": {},
   "outputs": [
    {
     "name": "stdout",
     "output_type": "stream",
     "text": [
      "          X         Y         Z  Expanding_Sum\n",
      "0  0.898072  0.260497  0.749482       0.898072\n",
      "1  0.094918  0.097172  0.357790       0.992990\n",
      "2  0.952938  0.831202  0.509409       1.945928\n",
      "3  0.772596  0.388439  0.743926       2.718525\n"
     ]
    }
   ],
   "source": [
    "data = np.random.rand(4, 3)\n",
    "df = pd.DataFrame(data, columns=['X', 'Y', 'Z'])\n",
    "df['Expanding_Sum'] = df['X'].expanding().sum()\n",
    "print(df) "
   ]
  },
  {
   "cell_type": "code",
   "execution_count": 80,
   "metadata": {},
   "outputs": [
    {
     "name": "stdout",
     "output_type": "stream",
     "text": [
      "     X  Y  Expanding_Min\n",
      "0  foo  1            1.0\n",
      "1  bar  2            2.0\n",
      "2  foo  3            1.0\n",
      "3  bar  4            2.0\n"
     ]
    }
   ],
   "source": [
    "data = {'X': ['foo', 'bar', 'foo', 'bar'], 'Y': [1, 2, 3, 4]}\n",
    "df = pd.DataFrame(data)\n",
    "df['Expanding_Min'] = df.groupby('X')['Y'].expanding().min().reset_index(level=0, drop=True)\n",
    "print(df)"
   ]
  },
  {
   "cell_type": "code",
   "execution_count": 81,
   "metadata": {},
   "outputs": [
    {
     "name": "stdout",
     "output_type": "stream",
     "text": [
      "          X         Y         Z  Expanding_Max\n",
      "0  0.052266  0.311472  0.306852       0.311472\n",
      "1  0.273861  0.241027  0.783057       0.241027\n",
      "2  0.128771  0.615106  0.790574       0.615106\n",
      "3  0.216070  0.281427  0.233534       0.281427\n"
     ]
    }
   ],
   "source": [
    "data = np.random.rand(4, 3)\n",
    "df = pd.DataFrame(data, columns=['X', 'Y', 'Z'])\n",
    "df['Expanding_Max'] = df.groupby('X')['Y'].expanding().max().reset_index(level=0, drop=True)\n",
    "print(df)"
   ]
  },
  {
   "cell_type": "code",
   "execution_count": 82,
   "metadata": {},
   "outputs": [
    {
     "name": "stdout",
     "output_type": "stream",
     "text": [
      "     X  Y  Expanding_Var\n",
      "0  foo  1            NaN\n",
      "1  bar  2            NaN\n",
      "2  foo  3            2.0\n",
      "3  bar  4            2.0\n"
     ]
    }
   ],
   "source": [
    "data = {'X': ['foo', 'bar', 'foo', 'bar'], 'Y': [1, 2, 3, 4]}\n",
    "df = pd.DataFrame(data)\n",
    "df['Expanding_Var'] = df.groupby('X')['Y'].expanding().var().reset_index(level=0, drop=True)\n",
    "print(df) "
   ]
  },
  {
   "cell_type": "code",
   "execution_count": 83,
   "metadata": {},
   "outputs": [
    {
     "name": "stdout",
     "output_type": "stream",
     "text": [
      "          X         Y         Z  Expanding_Std\n",
      "0  0.804800  0.037135  0.333447            NaN\n",
      "1  0.607517  0.382541  0.778247       0.139500\n",
      "2  0.210696  0.933932  0.946967       0.302585\n",
      "3  0.902815  0.084222  0.700813       0.306211\n"
     ]
    }
   ],
   "source": [
    "data = np.random.rand(4, 3)\n",
    "df = pd.DataFrame(data, columns=['X', 'Y', 'Z'])\n",
    "df['Expanding_Std'] = df['X'].expanding().std()\n",
    "print(df) "
   ]
  },
  {
   "cell_type": "code",
   "execution_count": 84,
   "metadata": {},
   "outputs": [
    {
     "name": "stdout",
     "output_type": "stream",
     "text": [
      "   X  Y  Expanding_Cov\n",
      "0  1  4            NaN\n",
      "1  2  3      -0.500000\n",
      "2  3  2      -1.000000\n",
      "3  4  1      -1.666667\n"
     ]
    }
   ],
   "source": [
    "data = {'X': [1, 2, 3, 4], 'Y': [4, 3, 2, 1]}\n",
    "df = pd.DataFrame(data)\n",
    "df['Expanding_Cov'] = df['X'].expanding().cov(df['Y'])\n",
    "print(df)"
   ]
  },
  {
   "cell_type": "code",
   "execution_count": 85,
   "metadata": {},
   "outputs": [
    {
     "name": "stdout",
     "output_type": "stream",
     "text": [
      "          X         Y         Z  Expanding_Corr\n",
      "0  0.812113  0.030769  0.795703             NaN\n",
      "1  0.926462  0.423450  0.002086        1.000000\n",
      "2  0.074826  0.250321  0.495233        0.055830\n",
      "3  0.415301  0.375465  0.189407       -0.047834\n"
     ]
    }
   ],
   "source": [
    "data = np.random.rand(4, 3)\n",
    "df = pd.DataFrame(data, columns=['X', 'Y', 'Z'])\n",
    "df['Expanding_Corr'] = df['X'].expanding().corr(df['Y'])\n",
    "print(df)"
   ]
  },
  {
   "cell_type": "code",
   "execution_count": 86,
   "metadata": {},
   "outputs": [
    {
     "name": "stdout",
     "output_type": "stream",
     "text": [
      "   X  Expanding_Median\n",
      "0  1               1.0\n",
      "1  2               1.5\n",
      "2  3               2.0\n",
      "3  4               2.5\n",
      "4  5               3.0\n",
      "5  6               3.5\n"
     ]
    }
   ],
   "source": [
    "data = {'X': [1, 2, 3, 4, 5, 6]}\n",
    "df = pd.DataFrame(data)\n",
    "df['Expanding_Median'] = df['X'].expanding().median()\n",
    "print(df)"
   ]
  },
  {
   "cell_type": "code",
   "execution_count": 87,
   "metadata": {},
   "outputs": [
    {
     "name": "stdout",
     "output_type": "stream",
     "text": [
      "              X  Y  Expanding_Mean\n",
      "2020-01-01  foo  0             0.0\n",
      "2020-01-02  bar  1             1.0\n",
      "2020-01-03  foo  2             1.0\n",
      "2020-01-04  bar  3             2.0\n",
      "2020-01-05  foo  4             2.0\n",
      "2020-01-06  bar  5             3.0\n",
      "2020-01-07  foo  6             3.0\n",
      "2020-01-08  bar  7             4.0\n",
      "2020-01-09  foo  8             4.0\n",
      "2020-01-10  bar  9             5.0\n"
     ]
    }
   ],
   "source": [
    "date_range = pd.date_range(start='1/1/2020', periods=10, freq='D')\n",
    "data = {'X': ['foo', 'bar', 'foo', 'bar', 'foo', 'bar', 'foo', 'bar', 'foo', 'bar'], 'Y': range(10)}\n",
    "df = pd.DataFrame(data, index=date_range)\n",
    "df['Expanding_Mean'] = df.groupby('X')['Y'].expanding().mean().reset_index(level=0, drop=True)\n",
    "print(df) "
   ]
  },
  {
   "cell_type": "code",
   "execution_count": 88,
   "metadata": {},
   "outputs": [
    {
     "name": "stdout",
     "output_type": "stream",
     "text": [
      "          X         Y         Z  Rolling_Sum\n",
      "0  0.695837  0.429588  0.583312          NaN\n",
      "1  0.435832  0.747749  0.240468          NaN\n",
      "2  0.954287  0.356964  0.817520          NaN\n",
      "3  0.162423  0.701536  0.703263          NaN\n",
      "4  0.514383  0.023107  0.324352          NaN\n",
      "5  0.136078  0.845514  0.900617          NaN\n",
      "6  0.121341  0.137753  0.504713          NaN\n",
      "7  0.107508  0.214711  0.460881          NaN\n",
      "8  0.141754  0.139061  0.957858          NaN\n",
      "9  0.681698  0.183333  0.537665          NaN\n"
     ]
    }
   ],
   "source": [
    "data = np.random.rand(10, 3)\n",
    "df = pd.DataFrame(data, columns=['X', 'Y', 'Z'])\n",
    "df['Rolling_Sum'] = df.groupby('X')['Y'].rolling(window=3).sum().reset_index(level=0, drop=True)\n",
    "print(df) "
   ]
  },
  {
   "cell_type": "code",
   "execution_count": 89,
   "metadata": {},
   "outputs": [
    {
     "name": "stdout",
     "output_type": "stream",
     "text": [
      "     X  Y  Rolling_Mean\n",
      "0  foo  0           NaN\n",
      "1  bar  1           NaN\n",
      "2  foo  2           NaN\n",
      "3  bar  3           NaN\n",
      "4  foo  4           2.0\n",
      "5  bar  5           3.0\n",
      "6  foo  6           4.0\n",
      "7  bar  7           5.0\n",
      "8  foo  8           6.0\n",
      "9  bar  9           7.0\n"
     ]
    }
   ],
   "source": [
    "data = {'X': ['foo', 'bar', 'foo', 'bar', 'foo', 'bar', 'foo', 'bar', 'foo', 'bar'], 'Y': range(10)}\n",
    "df = pd.DataFrame(data)\n",
    "df['Rolling_Mean'] = df.groupby('X')['Y'].rolling(window=3).mean().reset_index(level=0, drop=True)\n",
    "print(df) "
   ]
  },
  {
   "cell_type": "code",
   "execution_count": 90,
   "metadata": {},
   "outputs": [
    {
     "name": "stdout",
     "output_type": "stream",
     "text": [
      "          X         Y         Z  Rolling_Std\n",
      "0  0.387293  0.239190  0.224897          NaN\n",
      "1  0.460276  0.884237  0.588793          NaN\n",
      "2  0.688064  0.539601  0.575103          NaN\n",
      "3  0.591185  0.558122  0.394475          NaN\n",
      "4  0.543731  0.337364  0.995705          NaN\n",
      "5  0.123866  0.402755  0.054357          NaN\n",
      "6  0.330013  0.145963  0.492163          NaN\n",
      "7  0.828348  0.875289  0.155658          NaN\n",
      "8  0.800688  0.369390  0.663392          NaN\n",
      "9  0.198040  0.211034  0.432712          NaN\n"
     ]
    }
   ],
   "source": [
    "data = np.random.rand(10, 3)\n",
    "df = pd.DataFrame(data, columns=['X', 'Y', 'Z'])\n",
    "df['Rolling_Std'] = df.groupby('X')['Y'].rolling(window=3).std().reset_index(level=0, drop=True)\n",
    "print(df) "
   ]
  },
  {
   "cell_type": "code",
   "execution_count": 91,
   "metadata": {},
   "outputs": [
    {
     "name": "stdout",
     "output_type": "stream",
     "text": [
      "     X  Y  Rolling_Var\n",
      "0  foo  0          NaN\n",
      "1  bar  1          NaN\n",
      "2  foo  2          NaN\n",
      "3  bar  3          NaN\n",
      "4  foo  4          4.0\n",
      "5  bar  5          4.0\n",
      "6  foo  6          4.0\n",
      "7  bar  7          4.0\n",
      "8  foo  8          4.0\n",
      "9  bar  9          4.0\n"
     ]
    }
   ],
   "source": [
    "data = {'X': ['foo', 'bar', 'foo', 'bar', 'foo', 'bar', 'foo', 'bar', 'foo', 'bar'], 'Y': range(10)}\n",
    "df = pd.DataFrame(data)\n",
    "df['Rolling_Var'] = df.groupby('X')['Y'].rolling(window=3).var().reset_index(level=0, drop=True)\n",
    "print(df) "
   ]
  },
  {
   "cell_type": "code",
   "execution_count": 92,
   "metadata": {},
   "outputs": [
    {
     "name": "stdout",
     "output_type": "stream",
     "text": [
      "          X         Y         Z Group  Rolling_Corr\n",
      "0  0.374540  0.950714  0.731994     A           NaN\n",
      "1  0.598658  0.156019  0.155995     A           NaN\n",
      "2  0.058084  0.866176  0.601115     A      0.992633\n",
      "3  0.708073  0.020584  0.969910     A     -0.095420\n",
      "4  0.832443  0.212339  0.181825     A     -0.180021\n",
      "5  0.183405  0.304242  0.524756     B           NaN\n",
      "6  0.431945  0.291229  0.611853     B           NaN\n",
      "7  0.139494  0.292145  0.366362     A     -0.869948\n",
      "8  0.456070  0.785176  0.199674     B     -0.984073\n",
      "9  0.514234  0.592415  0.046450     B     -0.788379\n"
     ]
    },
    {
     "name": "stderr",
     "output_type": "stream",
     "text": [
      "/tmp/ipykernel_6054/2992994949.py:7: DeprecationWarning: DataFrameGroupBy.apply operated on the grouping columns. This behavior is deprecated, and in a future version of pandas the grouping columns will be excluded from the operation. Either pass `include_groups=False` to exclude the groupings or explicitly select the grouping columns after groupby to silence this warning.\n",
      "  df['Rolling_Corr'] = df.groupby('Group').apply(lambda group: group['Y'].rolling(window=3).corr(group['Z'])).reset_index(level=0, drop=True)\n"
     ]
    }
   ],
   "source": [
    "np.random.seed(42)  # For reproducibility\n",
    "data = np.random.rand(10, 3)\n",
    "df = pd.DataFrame(data, columns=['X', 'Y', 'Z'])\n",
    "# Optionally create a group column if necessary\n",
    "df['Group'] = np.random.choice(['A', 'B'], size=10)\n",
    "# Calculate the rolling correlation for each group\n",
    "df['Rolling_Corr'] = df.groupby('Group').apply(lambda group: group['Y'].rolling(window=3).corr(group['Z'])).reset_index(level=0, drop=True)\n",
    "print(df) "
   ]
  },
  {
   "cell_type": "code",
   "execution_count": 93,
   "metadata": {},
   "outputs": [
    {
     "name": "stdout",
     "output_type": "stream",
     "text": [
      "     X  Y   Z  Rolling_Cov\n",
      "0  foo  0  10          NaN\n",
      "1  bar  1  11          NaN\n",
      "2  foo  2  12          NaN\n",
      "3  bar  3  13          NaN\n",
      "4  foo  4  14          4.0\n",
      "5  bar  5  15          4.0\n",
      "6  foo  6  16          4.0\n",
      "7  bar  7  17          4.0\n",
      "8  foo  8  18          4.0\n",
      "9  bar  9  19          4.0\n"
     ]
    },
    {
     "name": "stderr",
     "output_type": "stream",
     "text": [
      "/tmp/ipykernel_6054/850524711.py:5: DeprecationWarning: DataFrameGroupBy.apply operated on the grouping columns. This behavior is deprecated, and in a future version of pandas the grouping columns will be excluded from the operation. Either pass `include_groups=False` to exclude the groupings or explicitly select the grouping columns after groupby to silence this warning.\n",
      "  rolling_cov = df.groupby('X').apply(lambda group: group['Y'].rolling(window=3).cov(group['Z'])).reset_index(level=0, drop=True)\n"
     ]
    }
   ],
   "source": [
    "data = {'X': ['foo', 'bar', 'foo', 'bar', 'foo', 'bar', 'foo', 'bar', 'foo', 'bar'],\n",
    "        'Y': range(10), 'Z': range(10, 20)}\n",
    "df = pd.DataFrame(data)\n",
    "# Calculate the rolling covariance for each group\n",
    "rolling_cov = df.groupby('X').apply(lambda group: group['Y'].rolling(window=3).cov(group['Z'])).reset_index(level=0, drop=True)\n",
    "# Add the rolling covariance to the original DataFrame\n",
    "df['Rolling_Cov'] = rolling_cov\n",
    "print(df) "
   ]
  },
  {
   "cell_type": "code",
   "execution_count": 94,
   "metadata": {},
   "outputs": [
    {
     "name": "stdout",
     "output_type": "stream",
     "text": [
      "          X         Y         Z  Rolling_Skew\n",
      "0  0.808397  0.304614  0.097672           NaN\n",
      "1  0.684233  0.440152  0.122038           NaN\n",
      "2  0.495177  0.034389  0.909320           NaN\n",
      "3  0.258780  0.662522  0.311711           NaN\n",
      "4  0.520068  0.546710  0.184854           NaN\n",
      "5  0.969585  0.775133  0.939499           NaN\n",
      "6  0.894827  0.597900  0.921874           NaN\n",
      "7  0.088493  0.195983  0.045227           NaN\n",
      "8  0.325330  0.388677  0.271349           NaN\n",
      "9  0.828738  0.356753  0.280935           NaN\n"
     ]
    }
   ],
   "source": [
    "data = np.random.rand(10, 3)\n",
    "df = pd.DataFrame(data, columns=['X', 'Y', 'Z'])\n",
    "df['Rolling_Skew'] = df.groupby('X')['Y'].rolling(window=3).skew().reset_index(level=0, drop=True)\n",
    "print(df)"
   ]
  },
  {
   "cell_type": "code",
   "execution_count": 95,
   "metadata": {},
   "outputs": [
    {
     "name": "stdout",
     "output_type": "stream",
     "text": [
      "     X  Y  Rolling_Kurt\n",
      "0  foo  0           NaN\n",
      "1  bar  1           NaN\n",
      "2  foo  2           NaN\n",
      "3  bar  3           NaN\n",
      "4  foo  4           NaN\n",
      "5  bar  5           NaN\n",
      "6  foo  6           NaN\n",
      "7  bar  7           NaN\n",
      "8  foo  8           NaN\n",
      "9  bar  9           NaN\n"
     ]
    }
   ],
   "source": [
    "data = {'X': ['foo', 'bar', 'foo', 'bar', 'foo', 'bar', 'foo', 'bar', 'foo', 'bar'], 'Y': range(10)}\n",
    "df = pd.DataFrame(data)\n",
    "df['Rolling_Kurt'] = df.groupby('X')['Y'].rolling(window=3).kurt().reset_index(level=0, drop=True)\n",
    "print(df) "
   ]
  },
  {
   "cell_type": "code",
   "execution_count": 96,
   "metadata": {},
   "outputs": [
    {
     "name": "stdout",
     "output_type": "stream",
     "text": [
      "          X         Y         Z  Rolling_Median\n",
      "0  0.542696  0.140924  0.802197             NaN\n",
      "1  0.074551  0.986887  0.772245             NaN\n",
      "2  0.198716  0.005522  0.815461             NaN\n",
      "3  0.706857  0.729007  0.771270             NaN\n",
      "4  0.074045  0.358466  0.115869             NaN\n",
      "5  0.863103  0.623298  0.330898             NaN\n",
      "6  0.063558  0.310982  0.325183             NaN\n",
      "7  0.729606  0.637557  0.887213             NaN\n",
      "8  0.472215  0.119594  0.713245             NaN\n",
      "9  0.760785  0.561277  0.770967             NaN\n"
     ]
    }
   ],
   "source": [
    "data = np.random.rand(10, 3)\n",
    "df = pd.DataFrame(data, columns=['X', 'Y', 'Z'])\n",
    "df['Rolling_Median'] = df.groupby('X')['Y'].rolling(window=3).median().reset_index(level=0, drop=True)\n",
    "print(df) "
   ]
  },
  {
   "cell_type": "code",
   "execution_count": 97,
   "metadata": {},
   "outputs": [
    {
     "name": "stdout",
     "output_type": "stream",
     "text": [
      "     X  Y  Expanding_Sum\n",
      "0  foo  0            0.0\n",
      "1  bar  1            1.0\n",
      "2  foo  2            2.0\n",
      "3  bar  3            4.0\n",
      "4  foo  4            6.0\n",
      "5  bar  5            9.0\n",
      "6  foo  6           12.0\n",
      "7  bar  7           16.0\n",
      "8  foo  8           20.0\n",
      "9  bar  9           25.0\n"
     ]
    }
   ],
   "source": [
    "data = {'X': ['foo', 'bar', 'foo', 'bar', 'foo', 'bar', 'foo', 'bar', 'foo', 'bar'], 'Y': range(10)}\n",
    "df = pd.DataFrame(data)\n",
    "df['Expanding_Sum'] = df.groupby('X')['Y'].expanding().sum().reset_index(level=0, drop=True)\n",
    "print(df) "
   ]
  }
 ],
 "metadata": {
  "kernelspec": {
   "display_name": "venv_learings",
   "language": "python",
   "name": "python3"
  },
  "language_info": {
   "codemirror_mode": {
    "name": "ipython",
    "version": 3
   },
   "file_extension": ".py",
   "mimetype": "text/x-python",
   "name": "python",
   "nbconvert_exporter": "python",
   "pygments_lexer": "ipython3",
   "version": "3.12.9"
  }
 },
 "nbformat": 4,
 "nbformat_minor": 2
}
